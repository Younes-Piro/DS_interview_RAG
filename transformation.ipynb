{
 "cells": [
  {
   "cell_type": "code",
   "execution_count": 2,
   "metadata": {},
   "outputs": [],
   "source": [
    "import pandas as pd\n",
    "import re\n",
    "import spacy\n",
    "from sklearn.metrics.pairwise import cosine_similarity"
   ]
  },
  {
   "cell_type": "code",
   "execution_count": 3,
   "metadata": {},
   "outputs": [],
   "source": [
    "df = pd.read_csv('assets/result.csv', index_col=[0])"
   ]
  },
  {
   "cell_type": "code",
   "execution_count": 4,
   "metadata": {},
   "outputs": [
    {
     "data": {
      "text/html": [
       "<div>\n",
       "<style scoped>\n",
       "    .dataframe tbody tr th:only-of-type {\n",
       "        vertical-align: middle;\n",
       "    }\n",
       "\n",
       "    .dataframe tbody tr th {\n",
       "        vertical-align: top;\n",
       "    }\n",
       "\n",
       "    .dataframe thead th {\n",
       "        text-align: right;\n",
       "    }\n",
       "</style>\n",
       "<table border=\"1\" class=\"dataframe\">\n",
       "  <thead>\n",
       "    <tr style=\"text-align: right;\">\n",
       "      <th></th>\n",
       "      <th>Question</th>\n",
       "      <th>Answer</th>\n",
       "    </tr>\n",
       "  </thead>\n",
       "  <tbody>\n",
       "    <tr>\n",
       "      <th>0</th>\n",
       "      <td>1. What is Data Science?</td>\n",
       "      <td>An interdisciplinary field that constitutes va...</td>\n",
       "    </tr>\n",
       "    <tr>\n",
       "      <th>1</th>\n",
       "      <td>2. What is the difference between data analyti...</td>\n",
       "      <td>Data science involves the task of transforming...</td>\n",
       "    </tr>\n",
       "    <tr>\n",
       "      <th>2</th>\n",
       "      <td>3. What are some of the techniques used for sa...</td>\n",
       "      <td>Data analysis can not be done on a whole volum...</td>\n",
       "    </tr>\n",
       "    <tr>\n",
       "      <th>3</th>\n",
       "      <td>4. List down the conditions for Overfitting an...</td>\n",
       "      <td>Overfitting: The model performs well only for ...</td>\n",
       "    </tr>\n",
       "    <tr>\n",
       "      <th>4</th>\n",
       "      <td>5. Differentiate between the long and wide for...</td>\n",
       "      <td>Long format Data\\nWide-Format Data\\n\\n\\n\\nHere...</td>\n",
       "    </tr>\n",
       "    <tr>\n",
       "      <th>...</th>\n",
       "      <td>...</td>\n",
       "      <td>...</td>\n",
       "    </tr>\n",
       "    <tr>\n",
       "      <th>151</th>\n",
       "      <td>Situational question based on the resume.</td>\n",
       "      <td>If you have a gap in your resume, recruiters w...</td>\n",
       "    </tr>\n",
       "    <tr>\n",
       "      <th>152</th>\n",
       "      <td>Is Data Science Hard To Learn?</td>\n",
       "      <td>No. Anyone with the desire and commitment can ...</td>\n",
       "    </tr>\n",
       "    <tr>\n",
       "      <th>153</th>\n",
       "      <td>Is Data Science a Good Career?</td>\n",
       "      <td>Yes. There is a huge demand fordata scientists...</td>\n",
       "    </tr>\n",
       "    <tr>\n",
       "      <th>154</th>\n",
       "      <td>How Long Does It Take To Transition Into Data ...</td>\n",
       "      <td>If you have a background in math or computer s...</td>\n",
       "    </tr>\n",
       "    <tr>\n",
       "      <th>155</th>\n",
       "      <td>If an Interviewer Asks, “Why Should We Hire Yo...</td>\n",
       "      <td>Explain what makes you a skilled data scientis...</td>\n",
       "    </tr>\n",
       "  </tbody>\n",
       "</table>\n",
       "<p>156 rows × 2 columns</p>\n",
       "</div>"
      ],
      "text/plain": [
       "                                              Question  \\\n",
       "0                             1. What is Data Science?   \n",
       "1    2. What is the difference between data analyti...   \n",
       "2    3. What are some of the techniques used for sa...   \n",
       "3    4. List down the conditions for Overfitting an...   \n",
       "4    5. Differentiate between the long and wide for...   \n",
       "..                                                 ...   \n",
       "151          Situational question based on the resume.   \n",
       "152                     Is Data Science Hard To Learn?   \n",
       "153                     Is Data Science a Good Career?   \n",
       "154  How Long Does It Take To Transition Into Data ...   \n",
       "155  If an Interviewer Asks, “Why Should We Hire Yo...   \n",
       "\n",
       "                                                Answer  \n",
       "0    An interdisciplinary field that constitutes va...  \n",
       "1    Data science involves the task of transforming...  \n",
       "2    Data analysis can not be done on a whole volum...  \n",
       "3    Overfitting: The model performs well only for ...  \n",
       "4    Long format Data\\nWide-Format Data\\n\\n\\n\\nHere...  \n",
       "..                                                 ...  \n",
       "151  If you have a gap in your resume, recruiters w...  \n",
       "152  No. Anyone with the desire and commitment can ...  \n",
       "153  Yes. There is a huge demand fordata scientists...  \n",
       "154  If you have a background in math or computer s...  \n",
       "155  Explain what makes you a skilled data scientis...  \n",
       "\n",
       "[156 rows x 2 columns]"
      ]
     },
     "execution_count": 4,
     "metadata": {},
     "output_type": "execute_result"
    }
   ],
   "source": [
    "df"
   ]
  },
  {
   "cell_type": "code",
   "execution_count": 5,
   "metadata": {},
   "outputs": [],
   "source": [
    "def remove_enumeration(text):\n",
    "    # Use regular expressions to remove enumeration (e.g., \"1.\", \"2.\")\n",
    "    cleaned_text = re.sub(r'^\\d+\\.\\s+', '', text)\n",
    "    return cleaned_text\n"
   ]
  },
  {
   "cell_type": "code",
   "execution_count": 6,
   "metadata": {},
   "outputs": [],
   "source": [
    "# Apply the remove_enumeration function to the 'Question' column\n",
    "df['Question'] = df['Question'].apply(remove_enumeration)"
   ]
  },
  {
   "cell_type": "code",
   "execution_count": 7,
   "metadata": {},
   "outputs": [
    {
     "data": {
      "text/html": [
       "<div>\n",
       "<style scoped>\n",
       "    .dataframe tbody tr th:only-of-type {\n",
       "        vertical-align: middle;\n",
       "    }\n",
       "\n",
       "    .dataframe tbody tr th {\n",
       "        vertical-align: top;\n",
       "    }\n",
       "\n",
       "    .dataframe thead th {\n",
       "        text-align: right;\n",
       "    }\n",
       "</style>\n",
       "<table border=\"1\" class=\"dataframe\">\n",
       "  <thead>\n",
       "    <tr style=\"text-align: right;\">\n",
       "      <th></th>\n",
       "      <th>Question</th>\n",
       "      <th>Answer</th>\n",
       "    </tr>\n",
       "  </thead>\n",
       "  <tbody>\n",
       "    <tr>\n",
       "      <th>0</th>\n",
       "      <td>What is Data Science?</td>\n",
       "      <td>An interdisciplinary field that constitutes va...</td>\n",
       "    </tr>\n",
       "    <tr>\n",
       "      <th>1</th>\n",
       "      <td>What is the difference between data analytics ...</td>\n",
       "      <td>Data science involves the task of transforming...</td>\n",
       "    </tr>\n",
       "    <tr>\n",
       "      <th>2</th>\n",
       "      <td>What are some of the techniques used for sampl...</td>\n",
       "      <td>Data analysis can not be done on a whole volum...</td>\n",
       "    </tr>\n",
       "    <tr>\n",
       "      <th>3</th>\n",
       "      <td>List down the conditions for Overfitting and U...</td>\n",
       "      <td>Overfitting: The model performs well only for ...</td>\n",
       "    </tr>\n",
       "    <tr>\n",
       "      <th>4</th>\n",
       "      <td>Differentiate between the long and wide format...</td>\n",
       "      <td>Long format Data\\nWide-Format Data\\n\\n\\n\\nHere...</td>\n",
       "    </tr>\n",
       "    <tr>\n",
       "      <th>...</th>\n",
       "      <td>...</td>\n",
       "      <td>...</td>\n",
       "    </tr>\n",
       "    <tr>\n",
       "      <th>151</th>\n",
       "      <td>Situational question based on the resume.</td>\n",
       "      <td>If you have a gap in your resume, recruiters w...</td>\n",
       "    </tr>\n",
       "    <tr>\n",
       "      <th>152</th>\n",
       "      <td>Is Data Science Hard To Learn?</td>\n",
       "      <td>No. Anyone with the desire and commitment can ...</td>\n",
       "    </tr>\n",
       "    <tr>\n",
       "      <th>153</th>\n",
       "      <td>Is Data Science a Good Career?</td>\n",
       "      <td>Yes. There is a huge demand fordata scientists...</td>\n",
       "    </tr>\n",
       "    <tr>\n",
       "      <th>154</th>\n",
       "      <td>How Long Does It Take To Transition Into Data ...</td>\n",
       "      <td>If you have a background in math or computer s...</td>\n",
       "    </tr>\n",
       "    <tr>\n",
       "      <th>155</th>\n",
       "      <td>If an Interviewer Asks, “Why Should We Hire Yo...</td>\n",
       "      <td>Explain what makes you a skilled data scientis...</td>\n",
       "    </tr>\n",
       "  </tbody>\n",
       "</table>\n",
       "<p>156 rows × 2 columns</p>\n",
       "</div>"
      ],
      "text/plain": [
       "                                              Question  \\\n",
       "0                                What is Data Science?   \n",
       "1    What is the difference between data analytics ...   \n",
       "2    What are some of the techniques used for sampl...   \n",
       "3    List down the conditions for Overfitting and U...   \n",
       "4    Differentiate between the long and wide format...   \n",
       "..                                                 ...   \n",
       "151          Situational question based on the resume.   \n",
       "152                     Is Data Science Hard To Learn?   \n",
       "153                     Is Data Science a Good Career?   \n",
       "154  How Long Does It Take To Transition Into Data ...   \n",
       "155  If an Interviewer Asks, “Why Should We Hire Yo...   \n",
       "\n",
       "                                                Answer  \n",
       "0    An interdisciplinary field that constitutes va...  \n",
       "1    Data science involves the task of transforming...  \n",
       "2    Data analysis can not be done on a whole volum...  \n",
       "3    Overfitting: The model performs well only for ...  \n",
       "4    Long format Data\\nWide-Format Data\\n\\n\\n\\nHere...  \n",
       "..                                                 ...  \n",
       "151  If you have a gap in your resume, recruiters w...  \n",
       "152  No. Anyone with the desire and commitment can ...  \n",
       "153  Yes. There is a huge demand fordata scientists...  \n",
       "154  If you have a background in math or computer s...  \n",
       "155  Explain what makes you a skilled data scientis...  \n",
       "\n",
       "[156 rows x 2 columns]"
      ]
     },
     "execution_count": 7,
     "metadata": {},
     "output_type": "execute_result"
    }
   ],
   "source": [
    "df"
   ]
  },
  {
   "cell_type": "code",
   "execution_count": 8,
   "metadata": {},
   "outputs": [],
   "source": [
    "# Load spaCy model\n",
    "nlp = spacy.load(\"en_core_web_sm\")"
   ]
  },
  {
   "cell_type": "code",
   "execution_count": 9,
   "metadata": {},
   "outputs": [],
   "source": [
    "# Preprocess text data (e.g., convert to lowercase)\n",
    "df['Question'] = df['Question'].str.lower()"
   ]
  },
  {
   "cell_type": "code",
   "execution_count": 10,
   "metadata": {},
   "outputs": [],
   "source": [
    "def are_questions_duplicates(q1, q2):\n",
    "    # Tokenize and vectorize the questions\n",
    "    doc1 = nlp(q1)\n",
    "    doc2 = nlp(q2)\n",
    "    \n",
    "    # Calculate cosine similarity between the question vectors\n",
    "    similarity_score = cosine_similarity(doc1.vector.reshape(1, -1), doc2.vector.reshape(1, -1))[0][0]\n",
    "    \n",
    "    # Set a similarity threshold (experiment with different values)\n",
    "    threshold = 0.9\n",
    "    \n",
    "    # Check if the questions are duplicates\n",
    "    return similarity_score >= threshold"
   ]
  },
  {
   "cell_type": "code",
   "execution_count": 11,
   "metadata": {},
   "outputs": [],
   "source": [
    "# Create a list to store indices of duplicate questions\n",
    "indices_to_drop = []\n",
    "\n",
    "# Iterate through the dataset to find duplicates\n",
    "for i in range(len(df)):\n",
    "    for j in range(i + 1, len(df)):\n",
    "        if are_questions_duplicates(df.at[i, 'Question'], df.at[j, 'Question']):\n",
    "            indices_to_drop.append(j)  # Store the index of the duplicate question\n",
    "\n",
    "# Drop the duplicate questions from the DataFrame\n",
    "df_cleaned = df.drop(indices_to_drop)\n",
    "\n",
    "# Reset the index to ensure it's sequential\n",
    "df_cleaned.reset_index(drop=True, inplace=True)"
   ]
  },
  {
   "cell_type": "code",
   "execution_count": 12,
   "metadata": {},
   "outputs": [
    {
     "name": "stdout",
     "output_type": "stream",
     "text": [
      "[112, 140, 134, 129, 153, 127, 72, 130, 149, 141]\n"
     ]
    }
   ],
   "source": [
    "print(indices_to_drop)"
   ]
  },
  {
   "cell_type": "code",
   "execution_count": 24,
   "metadata": {},
   "outputs": [],
   "source": [
    "df_cleaned.to_csv('assets/final_result.csv')"
   ]
  },
  {
   "cell_type": "code",
   "execution_count": null,
   "metadata": {},
   "outputs": [],
   "source": []
  },
  {
   "cell_type": "code",
   "execution_count": null,
   "metadata": {},
   "outputs": [],
   "source": []
  }
 ],
 "metadata": {
  "kernelspec": {
   "display_name": "env",
   "language": "python",
   "name": "python3"
  },
  "language_info": {
   "codemirror_mode": {
    "name": "ipython",
    "version": 3
   },
   "file_extension": ".py",
   "mimetype": "text/x-python",
   "name": "python",
   "nbconvert_exporter": "python",
   "pygments_lexer": "ipython3",
   "version": "3.10.11"
  }
 },
 "nbformat": 4,
 "nbformat_minor": 2
}
